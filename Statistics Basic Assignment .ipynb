{
 "cells": [
  {
   "cell_type": "markdown",
   "id": "99aeab6f-b020-4d11-8c64-0d5b14059ecb",
   "metadata": {},
   "source": [
    "Statistics Basic "
   ]
  },
  {
   "cell_type": "markdown",
   "id": "1c13776b-adb1-42a9-8536-d0ab2fe54b7d",
   "metadata": {},
   "source": [
    "1) Explain the different types of data (qualitative and quantitative) and provide examples of each. Discuss nominal, ordinal, interval, and ratio scales.\n",
    ">  1) Qualitative Data (Categorical Data): Qualitative data describes attributes or characteristics and is non-numerical.\n",
    "a) Nominal Data: Categories without a meaningful order.\n",
    "Example: Gender (Male, Female, Other), Eye Color (Blue, Brown, Green)\n",
    "b) Ordinal Data: Categories with a meaningful order but no fixed interval between categories.\n",
    "Example: Satisfaction Levels (Very Unsatisfied, Unsatisfied, Neutral, Satisfied, Very Satisfied), Education Levels (High School, Bachelor’s, Master’s, PhD)\n",
    "    2) Quantitative Data (Numerical Data): Quantitative data represents measurable quantities and is numerical.\n",
    "a) Interval Data: Numerical values where intervals between numbers are meaningful, but there’s no true zero.\n",
    "Example: Temperature in Celsius or Fahrenheit (20°C, 30°C), Dates (e.g., year 2000, year 2020)\n",
    "b) Ratio Data: Numerical values with meaningful intervals and a true zero, allowing for meaningful ratios.\n",
    "Example: Height (150 cm, 180 cm), Weight (50 kg, 70 kg), Income ($2000, $5000)"
   ]
  },
  {
   "cell_type": "markdown",
   "id": "96f88862-08ef-48c2-be40-ddc7b31c02f7",
   "metadata": {},
   "source": [
    "2) What are the measures of central tendency, and when should you use each? Discuss the mean, median, and mode with examples and situations where each is appropriate.\n",
    ">  Measures of central tendency are statistical tools used to determine the central or typical value of a data set. They help summarize a dataset with a single value that represents the center of the data distribution. The three primary measures are:\n",
    "a) mean: The mean is the sum of all data values divided by the total number of values.\n",
    "When to Use:\n",
    "Best for numerical, quantitative data that is symmetrically distributed (no extreme outliers).\n",
    "Appropriate for interval and ratio data.\n",
    "b) median: The median is the middle value of a data set when the numbers are arranged in order. For an even number of values, it is the average of the two middle values.\n",
    "When to Use:\n",
    "Best for skewed data or when outliers are present, as it is not affected by extreme values.\n",
    "Appropriate for ordinal, interval, and ratio data.\n",
    "c) mode: The mode is the most frequently occurring value(s) in a data set. A data set can have one mode (unimodal), more than one mode (bimodal or multimodal), or no mode.\n",
    "When to Use:\n",
    "Best for categorical data or when identifying the most common category/score.\n",
    "Useful for nominal, ordinal, interval, and ratio data."
   ]
  },
  {
   "cell_type": "markdown",
   "id": "865183d1-1906-4f20-9c61-2862c73087fa",
   "metadata": {},
   "source": [
    "3) Explain the concept of dispersion. How do variance and standard deviation measure the spread of data?\n",
    ">  Dispersion refers to the spread or variability of data within a dataset. It measures how far the data points are scattered from the central value (e.g., the mean or median). Dispersion is important because it provides insights into the consistency, reliability, and diversity of the data.(Range, Variance, Standard Deviation, Interquartile Range (IQR))\n",
    "a) Variance: The Variance measures the average squared distance of each data point from the mean. It quantifies how spread out the data is.\n",
    "b) Standard Deviation: The Standard deviation is the square root of variance. It provides a measure of spread in the same units as the original data, making it easier to interpret.\n",
    "Why Both Are Useful: Variance shows how the data points deviate overall from the mean.While Standard deviation makes the measure of spread directly comparable to the original data scale."
   ]
  },
  {
   "cell_type": "markdown",
   "id": "087aa24c-9424-4e3b-ae9a-af2c7b76d9be",
   "metadata": {},
   "source": [
    "4) What is a box plot, and what can it tell you about the distribution of data?\n",
    ">  A box plot (or box-and-whisker plot) is a graphical representation of the distribution of a dataset. It visually summarizes the key descriptive statistics and highlights variability, central tendency, and potential outliers in the data.\n",
    "It tells about Data:-\n",
    "a) Center (Median): Shows the middle value of the dataset, providing a measure of central tendency.\n",
    "b) Spread (IQR): Reflects the variability of the middle 50% of the data & A larger IQR indicates greater variability in the dataset.\n",
    "c) Symmetry or Skewness: If the median is closer to one edge of the box or if one whisker is longer, it suggests skewness.\n",
    "Right-skewed: Longer whisker or more outliers on the upper side.\n",
    "Left-skewed: Longer whisker or more outliers on the lower side.\n",
    "d) Outliers: Identifies unusual values that lie significantly outside the main data range.\n",
    "e) Range: The distance between the minimum and maximum values (total spread of the data)."
   ]
  },
  {
   "cell_type": "markdown",
   "id": "ca26ef68-f06c-4292-919c-458ea37278fd",
   "metadata": {},
   "source": [
    "5) Discuss the role of random sampling in making inferences about populations.\n",
    ">  Random sampling is a fundamental technique in statistics used to draw conclusions (inferences) about a population based on a subset (sample) of its members. By ensuring that every individual in the population has an equal chance of being selected, random sampling minimizes bias and enhances the representativeness of the sample."
   ]
  },
  {
   "cell_type": "markdown",
   "id": "09beaffa-f672-409e-b33b-f888d5685e32",
   "metadata": {},
   "source": [
    "6) Explain the concept of skewness and its types. How does skewness affect the interpretation of data?\n",
    ">  Skewness is a statistical measure that describes the asymmetry of a dataset's distribution around its mean. It provides insights into whether the data points are more concentrated on one side of the distribution, creating a \"tail\" on the opposite side. Skewness helps determine how far a dataset deviates from a symmetrical, bell-shaped normal distribution.\n",
    "a) Symmetrical Distribution: When the data is evenly distributed around the mean, the skewness is zero.\n",
    "Example: Zero Skewness (Symmetrical Distribution): Both tails of the distribution are of equal length, and the data is symmetrically distributed around the mean. (mean = median = mode)\n",
    "b) Asymmetrical Distribution: When one tail of the distribution is longer or fatter than the other, skewness is positive or negative.\n",
    "Example: Positive Skewness (Right-Skewed Distribution): The right tail (higher values) is longer or fatter than the left tail.(Mean > Median > Mode)\n",
    "Negative Skewness (Left-Skewed Distribution): The left tail (lower values) is longer or fatter than the right tail.\n",
    "(Mode > Median > Mean)"
   ]
  },
  {
   "cell_type": "markdown",
   "id": "3fc53765-528b-4656-9672-d04f3a322b4b",
   "metadata": {},
   "source": [
    "7) What is the interquartile range (IQR), and how is it used to detect outliers?\n",
    ">  The Interquartile Range (IQR) is a measure of statistical dispersion, representing the range within which the central 50% of the data lies. It is calculated as the difference between the third quartile(Q3) 75% Data lies and the first quartile (Q1) 25% data lies below: (IQR = 𝑄3 − 𝑄1)\n",
    "Outliers are data points that lie significantly outside the typical range of values in a dataset. The IQR provides a robust way to identify these outliers using the 1.5 × IQR Rule:\n",
    "Determine the Lower and Upper Boundaries:\n",
    "a) Lower Boundary: Q1 - 1.5 * IQR\n",
    "b) Upper Boundary: Q3 + 1.5 * IQR\n",
    "Any data point below the lower boundary or above the upper boundary is considered an outlier."
   ]
  },
  {
   "cell_type": "markdown",
   "id": "68643acb-9496-4eba-8873-757aa4e54036",
   "metadata": {},
   "source": [
    "8) Discuss the conditions under which the binomial distribution is used.\n",
    ">  The binomial distribution is a discrete probability distribution used to model the number of successes in a fixed number of independent trials, where each trial has two possible outcomes: success or failure. The binomial distribution is suitable under the following conditions:\n",
    "a) Fixed Number of Trials (n): The number of trials or experiments (denoted as n) must be fixed in advance.\n",
    "b) Two Possible Outcomes (Success or Failure):\n",
    "Success: The outcome of interest (e.g., getting a \"heads\" when flipping a coin).\n",
    "Failure: The outcome not of interest (e.g., getting a \"tails\" when flipping a coin).\n",
    "c) Constant Probability of Success (p): The probability of success (denoted as p) remains constant across all trials.\n",
    "d) Independence of Trials: The trials must be independent, meaning the outcome of one trial does not affect the outcome of any other trial.\n",
    "e) The Random Variable is the Number of Successes: The binomial distribution models the number of successes, denoted by X, in n trials."
   ]
  },
  {
   "cell_type": "markdown",
   "id": "ae77873f-82c7-4bb6-bb59-2349756b44ed",
   "metadata": {},
   "source": [
    "9) Explain the properties of the normal distribution and the empirical rule (68-95-99.7 rule).\n",
    ">  The normal distribution is a continuous probability distribution that is symmetric and bell-shaped. It is widely used in statistics to model a variety of natural phenomena and is characterized by the following properties:\n",
    "a) Normal Distribution Properties: Symmetric bell-shaped curve. Defined by the mean μ and standard deviation σ.The total area under the curve is 1, representing 100% probability.\n",
    "b) Empirical Rule (68-95-99.7 Rule): 68% of data lies within 1 standard deviation from the mean. 95% of data lies within 2 standard deviations from the mean. 99.7% of data lies within 3 standard deviations from the mean."
   ]
  },
  {
   "cell_type": "markdown",
   "id": "0b5abf55-cef9-4379-9b57-5afc29880bff",
   "metadata": {},
   "source": [
    "10) Provide a real-life example of a Poisson process and calculate the probability for a specific event.\n",
    ">   Imagine you work at a call center, and you want to model the number of incoming calls per hour. Suppose the average rate of incoming calls is 3 calls per hour. This means, on average, 3 calls are received every hour, but the actual number of calls in any given hour can vary randomly.\n",
    "Here, the events (incoming calls) happen independently, the rate (3 calls per hour) is constant, and events can't happen simultaneously.\n",
    "Let's calculate the probability of receiving exactly 4 calls in an hour, given that the average number of calls is 3 calls per hour.\n",
    "Here, we have: λ=3 (average number of calls per hour), k=4 (we want the probability of receiving exactly 4 calls).\n",
    "Using the Poisson formula: ( 𝑃(𝑋=4) = 3^4 𝑒^−3/4!)\n",
    "Now, let's calculate this: ≈0.1681 So, the probability of receiving exactly 4 calls in an hour is approximately 0.1681 or 16.81%."
   ]
  },
  {
   "cell_type": "code",
   "execution_count": 1,
   "id": "8cb836db-233e-4107-961e-f9dc0f1b67c0",
   "metadata": {},
   "outputs": [
    {
     "data": {
      "text/plain": [
       "0.16803135574154082"
      ]
     },
     "execution_count": 1,
     "metadata": {},
     "output_type": "execute_result"
    }
   ],
   "source": [
    "import math\n",
    "\n",
    "# Given values\n",
    "lambda_value = 3  # Average number of calls per hour\n",
    "k = 4  # Number of calls we are interested in\n",
    "\n",
    "# Poisson distribution formula\n",
    "probability = (lambda_value**k * math.exp(-lambda_value)) / math.factorial(k)\n",
    "probability"
   ]
  },
  {
   "cell_type": "markdown",
   "id": "cdb3ba88-f3e8-4075-9c9b-f01b49cf1b6b",
   "metadata": {},
   "source": [
    "11) Explain what a random variable is and differentiate between discrete and continuous random variables.\n",
    ">   A random variable is a numerical outcome of a random experiment or process. It assigns a number to each possible outcome of a random event. Random variables are typically used in probability theory and statistics to model uncertain events or quantities.\n",
    "a) Discrete Random Variables: A discrete random variable is one that takes on a finite or countably infinite number of distinct values. These values are often whole numbers or integers, and the possible outcomes can be listed or counted.\n",
    "b) Continuous Random Variables: A continuous random variable is one that can take on any value within a given range or interval. These variables can represent measurements and can assume an infinite number of possible values within that range."
   ]
  },
  {
   "cell_type": "code",
   "execution_count": 3,
   "id": "36137802-0083-4198-ab4b-64b7d912f795",
   "metadata": {},
   "outputs": [
    {
     "name": "stdout",
     "output_type": "stream",
     "text": [
      "Covariance: 10.0\n",
      "Correlation: 0.9999999999999998\n"
     ]
    }
   ],
   "source": [
    "#12) Provide an example dataset, calculate both covariance and correlation, and interpret the results.\n",
    "\n",
    "import numpy as np\n",
    "\n",
    "# Dataset\n",
    "X = np.array([2, 3, 4, 5, 6])  # Hours Studied\n",
    "Y = np.array([50, 55, 60, 65, 70])  # Test Scores\n",
    "\n",
    "# Calculate means of X and Y\n",
    "mean_X = np.mean(X)\n",
    "mean_Y = np.mean(Y)\n",
    "\n",
    "# Calculate Covariance\n",
    "cov_XY = np.mean((X - mean_X) * (Y - mean_Y))\n",
    "\n",
    "# Calculate Standard Deviations of X and Y\n",
    "std_X = np.std(X)\n",
    "std_Y = np.std(Y)\n",
    "\n",
    "# Calculate Correlation\n",
    "correlation = cov_XY / (std_X * std_Y)\n",
    "\n",
    "# Output Results\n",
    "print(f\"Covariance: {cov_XY}\")\n",
    "print(f\"Correlation: {correlation}\")"
   ]
  }
 ],
 "metadata": {
  "kernelspec": {
   "display_name": "Python 3 (ipykernel)",
   "language": "python",
   "name": "python3"
  },
  "language_info": {
   "codemirror_mode": {
    "name": "ipython",
    "version": 3
   },
   "file_extension": ".py",
   "mimetype": "text/x-python",
   "name": "python",
   "nbconvert_exporter": "python",
   "pygments_lexer": "ipython3",
   "version": "3.12.7"
  }
 },
 "nbformat": 4,
 "nbformat_minor": 5
}
